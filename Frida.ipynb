{
 "cells": [
  {
   "attachments": {},
   "cell_type": "markdown",
   "metadata": {
    "id": "x1gH5JHtJFpM"
   },
   "source": [
    "# FRIDA: A Collaborative Robot Painter with a Differentiable, Real2Sim2Real Planning Environment\n",
    "\n",
    "#### [Peter Schaldenbrand](https://pschaldenbrand.github.io/#about.html), [Jean Oh](https://www.cs.cmu.edu/~./jeanoh/), [Jim McCann](http://www.cs.cmu.edu/~jmccann/)\n",
    "#### The Robotics Institute, Carnegie Mellon University\n",
    "\n",
    "There's code for multiple different painting tasks below. Feel free to take a look at the command line arguments to change parameters such as the number of brush strokes used or number of optimization iterations."
   ]
  },
  {
   "attachments": {},
   "cell_type": "markdown",
   "metadata": {
    "id": "8AayW146DEtQ"
   },
   "source": [
    "# Installation"
   ]
  },
  {
   "cell_type": "code",
   "execution_count": 1,
   "metadata": {
    "id": "o7Yaz_mHd856"
   },
   "outputs": [],
   "source": [
    "%load_ext tensorboard"
   ]
  },
  {
   "cell_type": "code",
   "execution_count": null,
   "metadata": {
    "id": "5Zg1NkcFtxiJ"
   },
   "outputs": [],
   "source": [
    "# !git clone https://github.com/pschaldenbrand/Frida.git"
   ]
  },
  {
   "cell_type": "code",
   "execution_count": 3,
   "metadata": {
    "colab": {
     "base_uri": "https://localhost:8080/"
    },
    "id": "YtSZDWJCuJcr",
    "outputId": "e42d7d8d-3088-4f87-f408-e2a63d35603b"
   },
   "outputs": [
    {
     "name": "stdout",
     "output_type": "stream",
     "text": [
      "/root/content/Frida/src\n"
     ]
    }
   ],
   "source": [
    "cd /root/content/Frida/src"
   ]
  },
  {
   "cell_type": "code",
   "execution_count": 4,
   "metadata": {
    "colab": {
     "base_uri": "https://localhost:8080/"
    },
    "id": "ndcmbL50bkpF",
    "outputId": "4ef59f30-a6ee-48cd-81a5-64c82d6f7e2d"
   },
   "outputs": [
    {
     "name": "stdout",
     "output_type": "stream",
     "text": [
      "From https://github.com/pschaldenbrand/Frida\n",
      " * branch            master     -> FETCH_HEAD\n",
      "Already up to date.\n"
     ]
    }
   ],
   "source": [
    "# !git pull origin master"
   ]
  },
  {
   "cell_type": "code",
   "execution_count": 15,
   "metadata": {
    "id": "5C8L5-BUurOd"
   },
   "outputs": [
    {
     "name": "stdout",
     "output_type": "stream",
     "text": [
      "Looking in indexes: http://mirrors.aliyun.com/pypi/simple\n",
      "Collecting git+https://github.com/openai/CLIP.git (from -r ../requirements_python3.txt (line 8))\n",
      "  Cloning https://github.com/openai/CLIP.git to /tmp/pip-req-build-68wqq5c5\n",
      "  Running command git clone -q https://github.com/openai/CLIP.git /tmp/pip-req-build-68wqq5c5\n",
      "Requirement already satisfied: torch==1.13.1 in /root/miniconda3/lib/python3.8/site-packages (from -r ../requirements_python3.txt (line 1)) (1.13.1)\n",
      "Requirement already satisfied: torchvision in /root/miniconda3/lib/python3.8/site-packages (from -r ../requirements_python3.txt (line 2)) (0.14.1)\n",
      "Requirement already satisfied: torchgeometry in /root/miniconda3/lib/python3.8/site-packages (from -r ../requirements_python3.txt (line 3)) (0.1.2)\n",
      "Requirement already satisfied: torch-tools in /root/miniconda3/lib/python3.8/site-packages (from -r ../requirements_python3.txt (line 4)) (0.1.5)\n",
      "Requirement already satisfied: lpips in /root/miniconda3/lib/python3.8/site-packages (from -r ../requirements_python3.txt (line 5)) (0.1.4)\n",
      "Requirement already satisfied: ftfy in /root/miniconda3/lib/python3.8/site-packages (from -r ../requirements_python3.txt (line 6)) (6.1.3)\n",
      "Requirement already satisfied: regex in /root/miniconda3/lib/python3.8/site-packages (from -r ../requirements_python3.txt (line 7)) (2023.10.3)\n",
      "Requirement already satisfied: colour-science in /root/miniconda3/lib/python3.8/site-packages (from -r ../requirements_python3.txt (line 9)) (0.4.1)\n",
      "Requirement already satisfied: tensorboardX in /root/miniconda3/lib/python3.8/site-packages (from -r ../requirements_python3.txt (line 10)) (2.6.2.2)\n",
      "Requirement already satisfied: kornia==0.6.5 in /root/miniconda3/lib/python3.8/site-packages (from -r ../requirements_python3.txt (line 11)) (0.6.5)\n",
      "Requirement already satisfied: librosa in /root/miniconda3/lib/python3.8/site-packages (from -r ../requirements_python3.txt (line 12)) (0.10.1)\n",
      "Requirement already satisfied: timm in /root/miniconda3/lib/python3.8/site-packages (from -r ../requirements_python3.txt (line 13)) (0.9.12)\n",
      "Requirement already satisfied: transformers in /root/miniconda3/lib/python3.8/site-packages (from -r ../requirements_python3.txt (line 14)) (4.35.2)\n",
      "Requirement already satisfied: diffusers in /root/miniconda3/lib/python3.8/site-packages (from -r ../requirements_python3.txt (line 15)) (0.24.0)\n",
      "Requirement already satisfied: accelerate in /root/miniconda3/lib/python3.8/site-packages (from -r ../requirements_python3.txt (line 16)) (0.25.0)\n",
      "Requirement already satisfied: scikit-learn in /root/miniconda3/lib/python3.8/site-packages (from -r ../requirements_python3.txt (line 18)) (1.3.2)\n",
      "Requirement already satisfied: tqdm in /root/miniconda3/lib/python3.8/site-packages (from clip==1.0->-r ../requirements_python3.txt (line 8)) (4.61.2)\n",
      "Requirement already satisfied: nvidia-cublas-cu11==11.10.3.66 in /root/miniconda3/lib/python3.8/site-packages (from torch==1.13.1->-r ../requirements_python3.txt (line 1)) (11.10.3.66)\n",
      "Requirement already satisfied: nvidia-cuda-nvrtc-cu11==11.7.99 in /root/miniconda3/lib/python3.8/site-packages (from torch==1.13.1->-r ../requirements_python3.txt (line 1)) (11.7.99)\n",
      "Requirement already satisfied: nvidia-cudnn-cu11==8.5.0.96 in /root/miniconda3/lib/python3.8/site-packages (from torch==1.13.1->-r ../requirements_python3.txt (line 1)) (8.5.0.96)\n",
      "Requirement already satisfied: typing-extensions in /root/miniconda3/lib/python3.8/site-packages (from torch==1.13.1->-r ../requirements_python3.txt (line 1)) (4.2.0)\n",
      "Requirement already satisfied: nvidia-cuda-runtime-cu11==11.7.99 in /root/miniconda3/lib/python3.8/site-packages (from torch==1.13.1->-r ../requirements_python3.txt (line 1)) (11.7.99)\n",
      "Requirement already satisfied: packaging in /root/miniconda3/lib/python3.8/site-packages (from kornia==0.6.5->-r ../requirements_python3.txt (line 11)) (21.3)\n",
      "Requirement already satisfied: wheel in /root/miniconda3/lib/python3.8/site-packages (from nvidia-cublas-cu11==11.10.3.66->torch==1.13.1->-r ../requirements_python3.txt (line 1)) (0.36.2)\n",
      "Requirement already satisfied: setuptools in /root/miniconda3/lib/python3.8/site-packages (from nvidia-cublas-cu11==11.10.3.66->torch==1.13.1->-r ../requirements_python3.txt (line 1)) (52.0.0.post20210125)\n",
      "Requirement already satisfied: requests in /root/miniconda3/lib/python3.8/site-packages (from torchvision->-r ../requirements_python3.txt (line 2)) (2.25.1)\n",
      "Requirement already satisfied: numpy in /root/miniconda3/lib/python3.8/site-packages (from torchvision->-r ../requirements_python3.txt (line 2)) (1.22.4)\n",
      "Requirement already satisfied: pillow!=8.3.*,>=5.3.0 in /root/miniconda3/lib/python3.8/site-packages (from torchvision->-r ../requirements_python3.txt (line 2)) (10.1.0)\n",
      "Requirement already satisfied: seaborn in /root/miniconda3/lib/python3.8/site-packages (from torch-tools->-r ../requirements_python3.txt (line 4)) (0.13.0)\n",
      "Requirement already satisfied: coloredlogs in /root/miniconda3/lib/python3.8/site-packages (from torch-tools->-r ../requirements_python3.txt (line 4)) (15.0.1)\n",
      "Requirement already satisfied: pyaml in /root/miniconda3/lib/python3.8/site-packages (from torch-tools->-r ../requirements_python3.txt (line 4)) (23.9.7)\n",
      "Requirement already satisfied: jinja2 in /root/miniconda3/lib/python3.8/site-packages (from torch-tools->-r ../requirements_python3.txt (line 4)) (3.1.2)\n",
      "Requirement already satisfied: sqlalchemy in /root/miniconda3/lib/python3.8/site-packages (from torch-tools->-r ../requirements_python3.txt (line 4)) (2.0.23)\n",
      "Requirement already satisfied: imageio in /root/miniconda3/lib/python3.8/site-packages (from torch-tools->-r ../requirements_python3.txt (line 4)) (2.33.0)\n",
      "Requirement already satisfied: visdom in /root/miniconda3/lib/python3.8/site-packages (from torch-tools->-r ../requirements_python3.txt (line 4)) (0.2.4)\n",
      "Requirement already satisfied: imageio-ffmpeg in /root/miniconda3/lib/python3.8/site-packages (from torch-tools->-r ../requirements_python3.txt (line 4)) (0.4.9)\n",
      "Requirement already satisfied: scipy>=1.0.1 in /root/miniconda3/lib/python3.8/site-packages (from lpips->-r ../requirements_python3.txt (line 5)) (1.10.1)\n",
      "Requirement already satisfied: wcwidth<0.3.0,>=0.2.12 in /root/miniconda3/lib/python3.8/site-packages (from ftfy->-r ../requirements_python3.txt (line 6)) (0.2.12)\n",
      "Requirement already satisfied: protobuf>=3.20 in /root/miniconda3/lib/python3.8/site-packages (from tensorboardX->-r ../requirements_python3.txt (line 10)) (3.20.0)\n",
      "Requirement already satisfied: soundfile>=0.12.1 in /root/miniconda3/lib/python3.8/site-packages (from librosa->-r ../requirements_python3.txt (line 12)) (0.12.1)\n",
      "Requirement already satisfied: soxr>=0.3.2 in /root/miniconda3/lib/python3.8/site-packages (from librosa->-r ../requirements_python3.txt (line 12)) (0.3.7)\n",
      "Requirement already satisfied: decorator>=4.3.0 in /root/miniconda3/lib/python3.8/site-packages (from librosa->-r ../requirements_python3.txt (line 12)) (5.1.1)\n",
      "Requirement already satisfied: joblib>=0.14 in /root/miniconda3/lib/python3.8/site-packages (from librosa->-r ../requirements_python3.txt (line 12)) (1.3.2)\n",
      "Requirement already satisfied: numba>=0.51.0 in /root/miniconda3/lib/python3.8/site-packages (from librosa->-r ../requirements_python3.txt (line 12)) (0.58.1)\n",
      "Requirement already satisfied: lazy-loader>=0.1 in /root/miniconda3/lib/python3.8/site-packages (from librosa->-r ../requirements_python3.txt (line 12)) (0.3)\n",
      "Requirement already satisfied: msgpack>=1.0 in /root/miniconda3/lib/python3.8/site-packages (from librosa->-r ../requirements_python3.txt (line 12)) (1.0.7)\n",
      "Requirement already satisfied: audioread>=2.1.9 in /root/miniconda3/lib/python3.8/site-packages (from librosa->-r ../requirements_python3.txt (line 12)) (3.0.1)\n",
      "Requirement already satisfied: pooch>=1.0 in /root/miniconda3/lib/python3.8/site-packages (from librosa->-r ../requirements_python3.txt (line 12)) (1.8.0)\n",
      "Requirement already satisfied: threadpoolctl>=2.0.0 in /root/miniconda3/lib/python3.8/site-packages (from scikit-learn->-r ../requirements_python3.txt (line 18)) (3.2.0)\n",
      "Requirement already satisfied: llvmlite<0.42,>=0.41.0dev0 in /root/miniconda3/lib/python3.8/site-packages (from numba>=0.51.0->librosa->-r ../requirements_python3.txt (line 12)) (0.41.1)\n",
      "Requirement already satisfied: importlib-metadata in /root/miniconda3/lib/python3.8/site-packages (from numba>=0.51.0->librosa->-r ../requirements_python3.txt (line 12)) (4.11.4)\n",
      "Requirement already satisfied: platformdirs>=2.5.0 in /root/miniconda3/lib/python3.8/site-packages (from pooch>=1.0->librosa->-r ../requirements_python3.txt (line 12)) (4.0.0)\n",
      "Requirement already satisfied: pyparsing!=3.0.5,>=2.0.2 in /root/miniconda3/lib/python3.8/site-packages (from packaging->kornia==0.6.5->-r ../requirements_python3.txt (line 11)) (3.0.9)\n",
      "Requirement already satisfied: idna<3,>=2.5 in /root/miniconda3/lib/python3.8/site-packages (from requests->torchvision->-r ../requirements_python3.txt (line 2)) (2.10)\n",
      "Requirement already satisfied: urllib3<1.27,>=1.21.1 in /root/miniconda3/lib/python3.8/site-packages (from requests->torchvision->-r ../requirements_python3.txt (line 2)) (1.26.6)\n",
      "Requirement already satisfied: certifi>=2017.4.17 in /root/miniconda3/lib/python3.8/site-packages (from requests->torchvision->-r ../requirements_python3.txt (line 2)) (2021.5.30)\n",
      "Requirement already satisfied: chardet<5,>=3.0.2 in /root/miniconda3/lib/python3.8/site-packages (from requests->torchvision->-r ../requirements_python3.txt (line 2)) (4.0.0)\n",
      "Requirement already satisfied: cffi>=1.0 in /root/miniconda3/lib/python3.8/site-packages (from soundfile>=0.12.1->librosa->-r ../requirements_python3.txt (line 12)) (1.14.6)\n",
      "Requirement already satisfied: pycparser in /root/miniconda3/lib/python3.8/site-packages (from cffi>=1.0->soundfile>=0.12.1->librosa->-r ../requirements_python3.txt (line 12)) (2.20)\n",
      "Requirement already satisfied: pyyaml in /root/miniconda3/lib/python3.8/site-packages (from timm->-r ../requirements_python3.txt (line 13)) (6.0.1)\n",
      "Requirement already satisfied: huggingface-hub in /root/miniconda3/lib/python3.8/site-packages (from timm->-r ../requirements_python3.txt (line 13)) (0.19.4)\n",
      "Requirement already satisfied: safetensors in /root/miniconda3/lib/python3.8/site-packages (from timm->-r ../requirements_python3.txt (line 13)) (0.4.1)\n",
      "Requirement already satisfied: filelock in /root/miniconda3/lib/python3.8/site-packages (from transformers->-r ../requirements_python3.txt (line 14)) (3.13.1)\n",
      "Requirement already satisfied: tokenizers<0.19,>=0.14 in /root/miniconda3/lib/python3.8/site-packages (from transformers->-r ../requirements_python3.txt (line 14)) (0.15.0)\n",
      "Requirement already satisfied: fsspec>=2023.5.0 in /root/miniconda3/lib/python3.8/site-packages (from huggingface-hub->timm->-r ../requirements_python3.txt (line 13)) (2023.12.0)\n",
      "Requirement already satisfied: psutil in /root/miniconda3/lib/python3.8/site-packages (from accelerate->-r ../requirements_python3.txt (line 16)) (5.9.1)\n",
      "Requirement already satisfied: humanfriendly>=9.1 in /root/miniconda3/lib/python3.8/site-packages (from coloredlogs->torch-tools->-r ../requirements_python3.txt (line 4)) (10.0)\n",
      "Requirement already satisfied: zipp>=0.5 in /root/miniconda3/lib/python3.8/site-packages (from importlib-metadata->numba>=0.51.0->librosa->-r ../requirements_python3.txt (line 12)) (3.8.0)\n",
      "Requirement already satisfied: MarkupSafe>=2.0 in /root/miniconda3/lib/python3.8/site-packages (from jinja2->torch-tools->-r ../requirements_python3.txt (line 4)) (2.1.1)\n",
      "Requirement already satisfied: pandas>=1.2 in /root/miniconda3/lib/python3.8/site-packages (from seaborn->torch-tools->-r ../requirements_python3.txt (line 4)) (2.0.3)\n",
      "Requirement already satisfied: matplotlib!=3.6.1,>=3.3 in /root/miniconda3/lib/python3.8/site-packages (from seaborn->torch-tools->-r ../requirements_python3.txt (line 4)) (3.5.2)\n",
      "Requirement already satisfied: kiwisolver>=1.0.1 in /root/miniconda3/lib/python3.8/site-packages (from matplotlib!=3.6.1,>=3.3->seaborn->torch-tools->-r ../requirements_python3.txt (line 4)) (1.4.3)\n",
      "Requirement already satisfied: python-dateutil>=2.7 in /root/miniconda3/lib/python3.8/site-packages (from matplotlib!=3.6.1,>=3.3->seaborn->torch-tools->-r ../requirements_python3.txt (line 4)) (2.8.2)\n",
      "Requirement already satisfied: fonttools>=4.22.0 in /root/miniconda3/lib/python3.8/site-packages (from matplotlib!=3.6.1,>=3.3->seaborn->torch-tools->-r ../requirements_python3.txt (line 4)) (4.33.3)\n",
      "Requirement already satisfied: cycler>=0.10 in /root/miniconda3/lib/python3.8/site-packages (from matplotlib!=3.6.1,>=3.3->seaborn->torch-tools->-r ../requirements_python3.txt (line 4)) (0.11.0)\n",
      "Requirement already satisfied: pytz>=2020.1 in /root/miniconda3/lib/python3.8/site-packages (from pandas>=1.2->seaborn->torch-tools->-r ../requirements_python3.txt (line 4)) (2022.1)\n",
      "Requirement already satisfied: tzdata>=2022.1 in /root/miniconda3/lib/python3.8/site-packages (from pandas>=1.2->seaborn->torch-tools->-r ../requirements_python3.txt (line 4)) (2023.3)\n",
      "Requirement already satisfied: six>=1.5 in /root/miniconda3/lib/python3.8/site-packages (from python-dateutil>=2.7->matplotlib!=3.6.1,>=3.3->seaborn->torch-tools->-r ../requirements_python3.txt (line 4)) (1.16.0)\n",
      "Requirement already satisfied: greenlet!=0.4.17 in /root/miniconda3/lib/python3.8/site-packages (from sqlalchemy->torch-tools->-r ../requirements_python3.txt (line 4)) (3.0.1)\n",
      "Requirement already satisfied: jsonpatch in /root/miniconda3/lib/python3.8/site-packages (from visdom->torch-tools->-r ../requirements_python3.txt (line 4)) (1.33)\n",
      "Requirement already satisfied: tornado in /root/miniconda3/lib/python3.8/site-packages (from visdom->torch-tools->-r ../requirements_python3.txt (line 4)) (6.1)\n",
      "Requirement already satisfied: networkx in /root/miniconda3/lib/python3.8/site-packages (from visdom->torch-tools->-r ../requirements_python3.txt (line 4)) (3.1)\n",
      "Requirement already satisfied: websocket-client in /root/miniconda3/lib/python3.8/site-packages (from visdom->torch-tools->-r ../requirements_python3.txt (line 4)) (1.3.3)\n",
      "Requirement already satisfied: jsonpointer>=1.9 in /root/miniconda3/lib/python3.8/site-packages (from jsonpatch->visdom->torch-tools->-r ../requirements_python3.txt (line 4)) (2.4)\n",
      "\u001b[33mWARNING: Running pip as the 'root' user can result in broken permissions and conflicting behaviour with the system package manager. It is recommended to use a virtual environment instead: https://pip.pypa.io/warnings/venv\u001b[0m\n"
     ]
    }
   ],
   "source": [
    "# !python -m pip install -r ../requirements.txt\n",
    "!python -m pip install -r ../requirements_python3.txt"
   ]
  },
  {
   "cell_type": "code",
   "execution_count": 7,
   "metadata": {},
   "outputs": [
    {
     "name": "stdout",
     "output_type": "stream",
     "text": [
      "Looking in indexes: http://mirrors.aliyun.com/pypi/simple\n",
      "Collecting opencv-python\n",
      "  Downloading http://mirrors.aliyun.com/pypi/packages/b7/8a/b2f7e1a434d56bf1d7570fc5941ace0847404e1032d7f1f0b8fed896568d/opencv_python-4.8.1.78-cp37-abi3-manylinux_2_17_x86_64.manylinux2014_x86_64.whl (61.7 MB)\n",
      "\u001b[K     |████████████████████████████████| 61.7 MB 833 kB/s eta 0:00:012\n",
      "\u001b[?25hRequirement already satisfied: numpy>=1.17.3 in /root/miniconda3/lib/python3.8/site-packages (from opencv-python) (1.22.4)\n",
      "Installing collected packages: opencv-python\n",
      "Successfully installed opencv-python-4.8.1.78\n",
      "\u001b[33mWARNING: Running pip as the 'root' user can result in broken permissions and conflicting behaviour with the system package manager. It is recommended to use a virtual environment instead: https://pip.pypa.io/warnings/venv\u001b[0m\n"
     ]
    }
   ],
   "source": [
    "!pip install opencv-python\n"
   ]
  },
  {
   "cell_type": "code",
   "execution_count": 6,
   "metadata": {
    "id": "9PzePMg7z3yi"
   },
   "outputs": [],
   "source": [
    "# !mkdir painting"
   ]
  },
  {
   "cell_type": "code",
   "execution_count": 24,
   "metadata": {
    "id": "d4FBidAo1FI5"
   },
   "outputs": [],
   "source": [
    "# import requests\n",
    "# from PIL import Image\n",
    "# from io import BytesIO\n",
    "# def save_image_from_internet(url, fn):\n",
    "#     response = requests.get(url)\n",
    "#     img = Image.open(BytesIO(response.content))\n",
    "#     img = img.convert('RGB')\n",
    "#     img.save(fn)\n",
    "\n",
    "    \n",
    "import requests\n",
    "import cv2\n",
    "import numpy as np\n",
    "\n",
    "def save_image_from_internet(url, filename):\n",
    "    response = requests.get(url)\n",
    "    image_array = np.asarray(bytearray(response.content), dtype=np.uint8)\n",
    "    image = cv2.imdecode(image_array, cv2.IMREAD_COLOR)  # 读取彩色图像\n",
    "    cv2.imwrite(filename, image)  # 保存图像\n",
    "\n",
    "# 示例使用\n",
    "# save_image_from_internet('https://example.com/image.jpg', 'saved_image.jpg')\n"
   ]
  },
  {
   "attachments": {},
   "cell_type": "markdown",
   "metadata": {
    "id": "dNghMlAVDRVp"
   },
   "source": [
    "# Paint :]"
   ]
  },
  {
   "cell_type": "code",
   "execution_count": 8,
   "metadata": {
    "cellView": "form",
    "id": "lgoGlPdMuO-6"
   },
   "outputs": [
    {
     "name": "stdout",
     "output_type": "stream",
     "text": [
      "--2023-12-03 22:12:43--  https://cdn.homeandmoney.com/wp-content/uploads/2022/05/31113751/Pittsburgh_FeaturedImg-1.jpg\n",
      "Resolving cdn.homeandmoney.com (cdn.homeandmoney.com)... 216.137.39.56, 216.137.39.116, 216.137.39.26\n",
      "Connecting to cdn.homeandmoney.com (cdn.homeandmoney.com)|216.137.39.56|:443... connected.\n",
      "HTTP request sent, awaiting response... 200 OK\n",
      "Length: 782594 (764K) [image/jpeg]\n",
      "Saving to: ‘Pittsburgh_FeaturedImg-1.jpg.6’\n",
      "\n",
      "Pittsburgh_Featured 100%[===================>] 764.25K   785KB/s    in 1.0s    \n",
      "\n",
      "2023-12-03 22:12:44 (785 KB/s) - ‘Pittsburgh_FeaturedImg-1.jpg.6’ saved [782594/782594]\n",
      "\n"
     ]
    },
    {
     "data": {
      "text/plain": [
       "ERROR: Failed to launch TensorBoard (exited with 1).\n",
       "Contents of stderr:\n",
       "Traceback (most recent call last):\n",
       "  File \"/root/miniconda3/bin/tensorboard\", line 5, in <module>\n",
       "    from tensorboard.main import run_main\n",
       "  File \"/root/miniconda3/lib/python3.8/site-packages/tensorboard/main.py\", line 27, in <module>\n",
       "    from tensorboard import default\n",
       "  File \"/root/miniconda3/lib/python3.8/site-packages/tensorboard/default.py\", line 33, in <module>\n",
       "    from tensorboard.plugins.audio import audio_plugin\n",
       "  File \"/root/miniconda3/lib/python3.8/site-packages/tensorboard/plugins/audio/audio_plugin.py\", line 25, in <module>\n",
       "    from tensorboard.data import provider\n",
       "  File \"/root/miniconda3/lib/python3.8/site-packages/tensorboard/data/__init__.py\", line 17, in <module>\n",
       "    from tensorboard.data import experimental  # noqa: F401\n",
       "  File \"/root/miniconda3/lib/python3.8/site-packages/tensorboard/data/experimental/__init__.py\", line 17, in <module>\n",
       "    from tensorboard.data.experimental.experiment_from_dev import (  # noqa: F401\n",
       "  File \"/root/miniconda3/lib/python3.8/site-packages/tensorboard/data/experimental/experiment_from_dev.py\", line 27, in <module>\n",
       "    from tensorboard.uploader import server_info as server_info_lib\n",
       "  File \"/root/miniconda3/lib/python3.8/site-packages/tensorboard/uploader/server_info.py\", line 23, in <module>\n",
       "    from tensorboard.plugins.scalar import metadata as scalars_metadata\n",
       "  File \"/root/miniconda3/lib/python3.8/site-packages/tensorboard/plugins/scalar/metadata.py\", line 18, in <module>\n",
       "    from tensorboard.compat.proto import summary_pb2\n",
       "  File \"/root/miniconda3/lib/python3.8/site-packages/tensorboard/compat/proto/summary_pb2.py\", line 17, in <module>\n",
       "    from tensorboard.compat.proto import tensor_pb2 as tensorboard_dot_compat_dot_proto_dot_tensor__pb2\n",
       "  File \"/root/miniconda3/lib/python3.8/site-packages/tensorboard/compat/proto/tensor_pb2.py\", line 16, in <module>\n",
       "    from tensorboard.compat.proto import resource_handle_pb2 as tensorboard_dot_compat_dot_proto_dot_resource__handle__pb2\n",
       "  File \"/root/miniconda3/lib/python3.8/site-packages/tensorboard/compat/proto/resource_handle_pb2.py\", line 16, in <module>\n",
       "    from tensorboard.compat.proto import tensor_shape_pb2 as tensorboard_dot_compat_dot_proto_dot_tensor__shape__pb2\n",
       "  File \"/root/miniconda3/lib/python3.8/site-packages/tensorboard/compat/proto/tensor_shape_pb2.py\", line 36, in <module>\n",
       "    _descriptor.FieldDescriptor(\n",
       "  File \"/root/miniconda3/lib/python3.8/site-packages/google/protobuf/descriptor.py\", line 553, in __new__\n",
       "    _message.Message._CheckCalledFromGeneratedFile()\n",
       "TypeError: Descriptors cannot be created directly.\n",
       "If this call came from a _pb2.py file, your generated code is out of date and must be regenerated with protoc >= 3.19.0.\n",
       "If you cannot immediately regenerate your protos, some other possible workarounds are:\n",
       " 1. Downgrade the protobuf package to 3.20.x or lower.\n",
       " 2. Set PROTOCOL_BUFFERS_PYTHON_IMPLEMENTATION=python (but this will use pure-Python parsing and will be much slower).\n",
       "\n",
       "More information: https://developers.google.com/protocol-buffers/docs/news/2022-05-06#python-updates"
      ]
     },
     "metadata": {},
     "output_type": "display_data"
    },
    {
     "name": "stdout",
     "output_type": "stream",
     "text": [
      "100%|███████████████████████████████████████| 338M/338M [00:06<00:00, 53.2MiB/s]\n",
      "The cache for model files in Transformers v4.22.0 has been updated. Migrating your old cache. This is a one-time only operation. You can interrupt this and resume the migration later on by calling `transformers.utils.move_cache()`.\n",
      "0it [00:00, ?it/s]\n",
      "100%|███████████████████████████████████████| 335M/335M [00:09<00:00, 37.2MiB/s]\n",
      "Optimizing 784 Strokes:  52%|████████▉        | 210/400 [19:14<18:20,  5.79s/it]/root/miniconda3/lib/python3.8/site-packages/sklearn/cluster/_kmeans.py:1416: FutureWarning: The default value of `n_init` will change from 10 to 'auto' in 1.4. Set the value of `n_init` explicitly to suppress the warning\n",
      "  super()._check_params_vs_input(X, default_n_init=10)\n",
      "Optimizing 784 Strokes:  55%|█████████▎       | 220/400 [20:09<16:57,  5.65s/it]/root/miniconda3/lib/python3.8/site-packages/sklearn/cluster/_kmeans.py:1416: FutureWarning: The default value of `n_init` will change from 10 to 'auto' in 1.4. Set the value of `n_init` explicitly to suppress the warning\n",
      "  super()._check_params_vs_input(X, default_n_init=10)\n",
      "Optimizing 784 Strokes:  57%|█████████▊       | 230/400 [21:04<16:06,  5.69s/it]/root/miniconda3/lib/python3.8/site-packages/sklearn/cluster/_kmeans.py:1416: FutureWarning: The default value of `n_init` will change from 10 to 'auto' in 1.4. Set the value of `n_init` explicitly to suppress the warning\n",
      "  super()._check_params_vs_input(X, default_n_init=10)\n",
      "Optimizing 784 Strokes:  60%|██████████▏      | 240/400 [21:59<15:07,  5.67s/it]/root/miniconda3/lib/python3.8/site-packages/sklearn/cluster/_kmeans.py:1416: FutureWarning: The default value of `n_init` will change from 10 to 'auto' in 1.4. Set the value of `n_init` explicitly to suppress the warning\n",
      "  super()._check_params_vs_input(X, default_n_init=10)\n",
      "Optimizing 784 Strokes:  62%|██████████▋      | 250/400 [22:53<14:05,  5.64s/it]/root/miniconda3/lib/python3.8/site-packages/sklearn/cluster/_kmeans.py:1416: FutureWarning: The default value of `n_init` will change from 10 to 'auto' in 1.4. Set the value of `n_init` explicitly to suppress the warning\n",
      "  super()._check_params_vs_input(X, default_n_init=10)\n",
      "Optimizing 784 Strokes:  65%|███████████      | 260/400 [23:47<13:01,  5.58s/it]/root/miniconda3/lib/python3.8/site-packages/sklearn/cluster/_kmeans.py:1416: FutureWarning: The default value of `n_init` will change from 10 to 'auto' in 1.4. Set the value of `n_init` explicitly to suppress the warning\n",
      "  super()._check_params_vs_input(X, default_n_init=10)\n",
      "Optimizing 784 Strokes:  68%|███████████▍     | 270/400 [24:41<12:06,  5.59s/it]/root/miniconda3/lib/python3.8/site-packages/sklearn/cluster/_kmeans.py:1416: FutureWarning: The default value of `n_init` will change from 10 to 'auto' in 1.4. Set the value of `n_init` explicitly to suppress the warning\n",
      "  super()._check_params_vs_input(X, default_n_init=10)\n",
      "Optimizing 784 Strokes:  70%|███████████▉     | 280/400 [25:34<11:12,  5.61s/it]/root/miniconda3/lib/python3.8/site-packages/sklearn/cluster/_kmeans.py:1416: FutureWarning: The default value of `n_init` will change from 10 to 'auto' in 1.4. Set the value of `n_init` explicitly to suppress the warning\n",
      "  super()._check_params_vs_input(X, default_n_init=10)\n",
      "Optimizing 784 Strokes:  72%|████████████▎    | 290/400 [26:29<10:22,  5.66s/it]/root/miniconda3/lib/python3.8/site-packages/sklearn/cluster/_kmeans.py:1416: FutureWarning: The default value of `n_init` will change from 10 to 'auto' in 1.4. Set the value of `n_init` explicitly to suppress the warning\n",
      "  super()._check_params_vs_input(X, default_n_init=10)\n",
      "Optimizing 784 Strokes:  75%|████████████▊    | 300/400 [27:24<09:30,  5.70s/it]/root/miniconda3/lib/python3.8/site-packages/sklearn/cluster/_kmeans.py:1416: FutureWarning: The default value of `n_init` will change from 10 to 'auto' in 1.4. Set the value of `n_init` explicitly to suppress the warning\n",
      "  super()._check_params_vs_input(X, default_n_init=10)\n",
      "Optimizing 784 Strokes:  78%|█████████████▏   | 310/400 [28:20<08:35,  5.73s/it]/root/miniconda3/lib/python3.8/site-packages/sklearn/cluster/_kmeans.py:1416: FutureWarning: The default value of `n_init` will change from 10 to 'auto' in 1.4. Set the value of `n_init` explicitly to suppress the warning\n",
      "  super()._check_params_vs_input(X, default_n_init=10)\n",
      "Optimizing 784 Strokes:  80%|█████████████▌   | 320/400 [29:14<07:34,  5.68s/it]/root/miniconda3/lib/python3.8/site-packages/sklearn/cluster/_kmeans.py:1416: FutureWarning: The default value of `n_init` will change from 10 to 'auto' in 1.4. Set the value of `n_init` explicitly to suppress the warning\n",
      "  super()._check_params_vs_input(X, default_n_init=10)\n",
      "Optimizing 784 Strokes:  82%|██████████████   | 330/400 [30:09<06:34,  5.63s/it]/root/miniconda3/lib/python3.8/site-packages/sklearn/cluster/_kmeans.py:1416: FutureWarning: The default value of `n_init` will change from 10 to 'auto' in 1.4. Set the value of `n_init` explicitly to suppress the warning\n",
      "  super()._check_params_vs_input(X, default_n_init=10)\n",
      "Optimizing 784 Strokes:  85%|██████████████▍  | 340/400 [31:04<05:36,  5.61s/it]/root/miniconda3/lib/python3.8/site-packages/sklearn/cluster/_kmeans.py:1416: FutureWarning: The default value of `n_init` will change from 10 to 'auto' in 1.4. Set the value of `n_init` explicitly to suppress the warning\n",
      "  super()._check_params_vs_input(X, default_n_init=10)\n",
      "Optimizing 784 Strokes:  88%|██████████████▉  | 350/400 [31:58<04:45,  5.70s/it]/root/miniconda3/lib/python3.8/site-packages/sklearn/cluster/_kmeans.py:1416: FutureWarning: The default value of `n_init` will change from 10 to 'auto' in 1.4. Set the value of `n_init` explicitly to suppress the warning\n",
      "  super()._check_params_vs_input(X, default_n_init=10)\n",
      "Optimizing 784 Strokes:  90%|███████████████▎ | 360/400 [32:53<03:45,  5.64s/it]/root/miniconda3/lib/python3.8/site-packages/sklearn/cluster/_kmeans.py:1416: FutureWarning: The default value of `n_init` will change from 10 to 'auto' in 1.4. Set the value of `n_init` explicitly to suppress the warning\n",
      "  super()._check_params_vs_input(X, default_n_init=10)\n",
      "Optimizing 784 Strokes:  90%|███████████████▎ | 361/400 [32:59<03:43,  5.74s/it]/root/miniconda3/lib/python3.8/site-packages/sklearn/cluster/_kmeans.py:1416: FutureWarning: The default value of `n_init` will change from 10 to 'auto' in 1.4. Set the value of `n_init` explicitly to suppress the warning\n",
      "  super()._check_params_vs_input(X, default_n_init=10)\n",
      "Optimizing 784 Strokes:  90%|███████████████▍ | 362/400 [33:04<03:33,  5.62s/it]/root/miniconda3/lib/python3.8/site-packages/sklearn/cluster/_kmeans.py:1416: FutureWarning: The default value of `n_init` will change from 10 to 'auto' in 1.4. Set the value of `n_init` explicitly to suppress the warning\n",
      "  super()._check_params_vs_input(X, default_n_init=10)\n",
      "Optimizing 784 Strokes:  91%|███████████████▍ | 363/400 [33:10<03:25,  5.55s/it]/root/miniconda3/lib/python3.8/site-packages/sklearn/cluster/_kmeans.py:1416: FutureWarning: The default value of `n_init` will change from 10 to 'auto' in 1.4. Set the value of `n_init` explicitly to suppress the warning\n",
      "  super()._check_params_vs_input(X, default_n_init=10)\n",
      "Optimizing 784 Strokes:  91%|███████████████▍ | 364/400 [33:15<03:17,  5.47s/it]/root/miniconda3/lib/python3.8/site-packages/sklearn/cluster/_kmeans.py:1416: FutureWarning: The default value of `n_init` will change from 10 to 'auto' in 1.4. Set the value of `n_init` explicitly to suppress the warning\n",
      "  super()._check_params_vs_input(X, default_n_init=10)\n",
      "Optimizing 784 Strokes:  91%|███████████████▌ | 365/400 [33:22<03:28,  5.94s/it]/root/miniconda3/lib/python3.8/site-packages/sklearn/cluster/_kmeans.py:1416: FutureWarning: The default value of `n_init` will change from 10 to 'auto' in 1.4. Set the value of `n_init` explicitly to suppress the warning\n",
      "  super()._check_params_vs_input(X, default_n_init=10)\n",
      "Optimizing 784 Strokes:  92%|███████████████▌ | 366/400 [33:27<03:15,  5.76s/it]/root/miniconda3/lib/python3.8/site-packages/sklearn/cluster/_kmeans.py:1416: FutureWarning: The default value of `n_init` will change from 10 to 'auto' in 1.4. Set the value of `n_init` explicitly to suppress the warning\n",
      "  super()._check_params_vs_input(X, default_n_init=10)\n",
      "Optimizing 784 Strokes:  92%|███████████████▌ | 367/400 [33:33<03:05,  5.63s/it]/root/miniconda3/lib/python3.8/site-packages/sklearn/cluster/_kmeans.py:1416: FutureWarning: The default value of `n_init` will change from 10 to 'auto' in 1.4. Set the value of `n_init` explicitly to suppress the warning\n",
      "  super()._check_params_vs_input(X, default_n_init=10)\n",
      "Optimizing 784 Strokes:  92%|███████████████▋ | 368/400 [33:38<02:57,  5.55s/it]/root/miniconda3/lib/python3.8/site-packages/sklearn/cluster/_kmeans.py:1416: FutureWarning: The default value of `n_init` will change from 10 to 'auto' in 1.4. Set the value of `n_init` explicitly to suppress the warning\n",
      "  super()._check_params_vs_input(X, default_n_init=10)\n",
      "Optimizing 784 Strokes:  92%|███████████████▋ | 369/400 [33:44<02:51,  5.52s/it]/root/miniconda3/lib/python3.8/site-packages/sklearn/cluster/_kmeans.py:1416: FutureWarning: The default value of `n_init` will change from 10 to 'auto' in 1.4. Set the value of `n_init` explicitly to suppress the warning\n",
      "  super()._check_params_vs_input(X, default_n_init=10)\n",
      "Optimizing 784 Strokes:  92%|███████████████▋ | 370/400 [33:51<03:06,  6.21s/it]/root/miniconda3/lib/python3.8/site-packages/sklearn/cluster/_kmeans.py:1416: FutureWarning: The default value of `n_init` will change from 10 to 'auto' in 1.4. Set the value of `n_init` explicitly to suppress the warning\n",
      "  super()._check_params_vs_input(X, default_n_init=10)\n",
      "Optimizing 784 Strokes:  93%|███████████████▊ | 371/400 [33:57<02:54,  6.00s/it]/root/miniconda3/lib/python3.8/site-packages/sklearn/cluster/_kmeans.py:1416: FutureWarning: The default value of `n_init` will change from 10 to 'auto' in 1.4. Set the value of `n_init` explicitly to suppress the warning\n",
      "  super()._check_params_vs_input(X, default_n_init=10)\n",
      "Optimizing 784 Strokes:  93%|███████████████▊ | 372/400 [34:03<02:45,  5.90s/it]/root/miniconda3/lib/python3.8/site-packages/sklearn/cluster/_kmeans.py:1416: FutureWarning: The default value of `n_init` will change from 10 to 'auto' in 1.4. Set the value of `n_init` explicitly to suppress the warning\n",
      "  super()._check_params_vs_input(X, default_n_init=10)\n",
      "Optimizing 784 Strokes:  93%|███████████████▊ | 373/400 [34:08<02:35,  5.77s/it]/root/miniconda3/lib/python3.8/site-packages/sklearn/cluster/_kmeans.py:1416: FutureWarning: The default value of `n_init` will change from 10 to 'auto' in 1.4. Set the value of `n_init` explicitly to suppress the warning\n",
      "  super()._check_params_vs_input(X, default_n_init=10)\n",
      "Optimizing 784 Strokes:  94%|███████████████▉ | 374/400 [34:14<02:32,  5.86s/it]/root/miniconda3/lib/python3.8/site-packages/sklearn/cluster/_kmeans.py:1416: FutureWarning: The default value of `n_init` will change from 10 to 'auto' in 1.4. Set the value of `n_init` explicitly to suppress the warning\n",
      "  super()._check_params_vs_input(X, default_n_init=10)\n",
      "Optimizing 784 Strokes:  94%|███████████████▉ | 375/400 [34:21<02:37,  6.29s/it]/root/miniconda3/lib/python3.8/site-packages/sklearn/cluster/_kmeans.py:1416: FutureWarning: The default value of `n_init` will change from 10 to 'auto' in 1.4. Set the value of `n_init` explicitly to suppress the warning\n",
      "  super()._check_params_vs_input(X, default_n_init=10)\n",
      "Optimizing 784 Strokes:  94%|███████████████▉ | 376/400 [34:27<02:27,  6.16s/it]/root/miniconda3/lib/python3.8/site-packages/sklearn/cluster/_kmeans.py:1416: FutureWarning: The default value of `n_init` will change from 10 to 'auto' in 1.4. Set the value of `n_init` explicitly to suppress the warning\n",
      "  super()._check_params_vs_input(X, default_n_init=10)\n",
      "Optimizing 784 Strokes:  94%|████████████████ | 377/400 [34:33<02:18,  6.02s/it]/root/miniconda3/lib/python3.8/site-packages/sklearn/cluster/_kmeans.py:1416: FutureWarning: The default value of `n_init` will change from 10 to 'auto' in 1.4. Set the value of `n_init` explicitly to suppress the warning\n",
      "  super()._check_params_vs_input(X, default_n_init=10)\n",
      "Optimizing 784 Strokes:  94%|████████████████ | 378/400 [34:38<02:07,  5.81s/it]/root/miniconda3/lib/python3.8/site-packages/sklearn/cluster/_kmeans.py:1416: FutureWarning: The default value of `n_init` will change from 10 to 'auto' in 1.4. Set the value of `n_init` explicitly to suppress the warning\n",
      "  super()._check_params_vs_input(X, default_n_init=10)\n",
      "Optimizing 784 Strokes:  95%|████████████████ | 379/400 [34:44<01:59,  5.67s/it]/root/miniconda3/lib/python3.8/site-packages/sklearn/cluster/_kmeans.py:1416: FutureWarning: The default value of `n_init` will change from 10 to 'auto' in 1.4. Set the value of `n_init` explicitly to suppress the warning\n",
      "  super()._check_params_vs_input(X, default_n_init=10)\n",
      "Optimizing 784 Strokes:  95%|████████████████▏| 380/400 [34:51<02:01,  6.07s/it]/root/miniconda3/lib/python3.8/site-packages/sklearn/cluster/_kmeans.py:1416: FutureWarning: The default value of `n_init` will change from 10 to 'auto' in 1.4. Set the value of `n_init` explicitly to suppress the warning\n",
      "  super()._check_params_vs_input(X, default_n_init=10)\n",
      "Optimizing 784 Strokes:  95%|████████████████▏| 381/400 [34:56<01:51,  5.87s/it]/root/miniconda3/lib/python3.8/site-packages/sklearn/cluster/_kmeans.py:1416: FutureWarning: The default value of `n_init` will change from 10 to 'auto' in 1.4. Set the value of `n_init` explicitly to suppress the warning\n",
      "  super()._check_params_vs_input(X, default_n_init=10)\n",
      "Optimizing 784 Strokes:  96%|████████████████▏| 382/400 [35:01<01:43,  5.75s/it]/root/miniconda3/lib/python3.8/site-packages/sklearn/cluster/_kmeans.py:1416: FutureWarning: The default value of `n_init` will change from 10 to 'auto' in 1.4. Set the value of `n_init` explicitly to suppress the warning\n",
      "  super()._check_params_vs_input(X, default_n_init=10)\n",
      "Optimizing 784 Strokes:  96%|████████████████▎| 383/400 [35:07<01:35,  5.64s/it]/root/miniconda3/lib/python3.8/site-packages/sklearn/cluster/_kmeans.py:1416: FutureWarning: The default value of `n_init` will change from 10 to 'auto' in 1.4. Set the value of `n_init` explicitly to suppress the warning\n",
      "  super()._check_params_vs_input(X, default_n_init=10)\n",
      "Optimizing 784 Strokes:  96%|████████████████▎| 384/400 [35:12<01:28,  5.55s/it]/root/miniconda3/lib/python3.8/site-packages/sklearn/cluster/_kmeans.py:1416: FutureWarning: The default value of `n_init` will change from 10 to 'auto' in 1.4. Set the value of `n_init` explicitly to suppress the warning\n",
      "  super()._check_params_vs_input(X, default_n_init=10)\n",
      "Optimizing 784 Strokes:  96%|████████████████▎| 385/400 [35:19<01:30,  6.01s/it]/root/miniconda3/lib/python3.8/site-packages/sklearn/cluster/_kmeans.py:1416: FutureWarning: The default value of `n_init` will change from 10 to 'auto' in 1.4. Set the value of `n_init` explicitly to suppress the warning\n",
      "  super()._check_params_vs_input(X, default_n_init=10)\n",
      "Optimizing 784 Strokes:  96%|████████████████▍| 386/400 [35:25<01:23,  5.97s/it]/root/miniconda3/lib/python3.8/site-packages/sklearn/cluster/_kmeans.py:1416: FutureWarning: The default value of `n_init` will change from 10 to 'auto' in 1.4. Set the value of `n_init` explicitly to suppress the warning\n",
      "  super()._check_params_vs_input(X, default_n_init=10)\n",
      "Optimizing 784 Strokes:  97%|████████████████▍| 387/400 [35:31<01:15,  5.82s/it]/root/miniconda3/lib/python3.8/site-packages/sklearn/cluster/_kmeans.py:1416: FutureWarning: The default value of `n_init` will change from 10 to 'auto' in 1.4. Set the value of `n_init` explicitly to suppress the warning\n",
      "  super()._check_params_vs_input(X, default_n_init=10)\n",
      "Optimizing 784 Strokes:  97%|████████████████▍| 388/400 [35:36<01:08,  5.70s/it]/root/miniconda3/lib/python3.8/site-packages/sklearn/cluster/_kmeans.py:1416: FutureWarning: The default value of `n_init` will change from 10 to 'auto' in 1.4. Set the value of `n_init` explicitly to suppress the warning\n",
      "  super()._check_params_vs_input(X, default_n_init=10)\n",
      "Optimizing 784 Strokes:  97%|████████████████▌| 389/400 [35:41<01:01,  5.62s/it]/root/miniconda3/lib/python3.8/site-packages/sklearn/cluster/_kmeans.py:1416: FutureWarning: The default value of `n_init` will change from 10 to 'auto' in 1.4. Set the value of `n_init` explicitly to suppress the warning\n",
      "  super()._check_params_vs_input(X, default_n_init=10)\n",
      "Optimizing 784 Strokes:  98%|████████████████▌| 390/400 [35:49<01:00,  6.08s/it]/root/miniconda3/lib/python3.8/site-packages/sklearn/cluster/_kmeans.py:1416: FutureWarning: The default value of `n_init` will change from 10 to 'auto' in 1.4. Set the value of `n_init` explicitly to suppress the warning\n",
      "  super()._check_params_vs_input(X, default_n_init=10)\n",
      "Optimizing 784 Strokes:  98%|████████████████▌| 391/400 [35:54<00:52,  5.89s/it]/root/miniconda3/lib/python3.8/site-packages/sklearn/cluster/_kmeans.py:1416: FutureWarning: The default value of `n_init` will change from 10 to 'auto' in 1.4. Set the value of `n_init` explicitly to suppress the warning\n",
      "  super()._check_params_vs_input(X, default_n_init=10)\n",
      "Optimizing 784 Strokes:  98%|████████████████▋| 392/400 [36:00<00:46,  5.84s/it]/root/miniconda3/lib/python3.8/site-packages/sklearn/cluster/_kmeans.py:1416: FutureWarning: The default value of `n_init` will change from 10 to 'auto' in 1.4. Set the value of `n_init` explicitly to suppress the warning\n",
      "  super()._check_params_vs_input(X, default_n_init=10)\n",
      "Optimizing 784 Strokes:  98%|████████████████▋| 393/400 [36:05<00:40,  5.73s/it]/root/miniconda3/lib/python3.8/site-packages/sklearn/cluster/_kmeans.py:1416: FutureWarning: The default value of `n_init` will change from 10 to 'auto' in 1.4. Set the value of `n_init` explicitly to suppress the warning\n",
      "  super()._check_params_vs_input(X, default_n_init=10)\n",
      "Optimizing 784 Strokes:  98%|████████████████▋| 394/400 [36:11<00:33,  5.61s/it]/root/miniconda3/lib/python3.8/site-packages/sklearn/cluster/_kmeans.py:1416: FutureWarning: The default value of `n_init` will change from 10 to 'auto' in 1.4. Set the value of `n_init` explicitly to suppress the warning\n",
      "  super()._check_params_vs_input(X, default_n_init=10)\n",
      "Optimizing 784 Strokes:  99%|████████████████▊| 395/400 [36:18<00:30,  6.09s/it]/root/miniconda3/lib/python3.8/site-packages/sklearn/cluster/_kmeans.py:1416: FutureWarning: The default value of `n_init` will change from 10 to 'auto' in 1.4. Set the value of `n_init` explicitly to suppress the warning\n",
      "  super()._check_params_vs_input(X, default_n_init=10)\n",
      "Optimizing 784 Strokes:  99%|████████████████▊| 396/400 [36:23<00:23,  5.97s/it]/root/miniconda3/lib/python3.8/site-packages/sklearn/cluster/_kmeans.py:1416: FutureWarning: The default value of `n_init` will change from 10 to 'auto' in 1.4. Set the value of `n_init` explicitly to suppress the warning\n",
      "  super()._check_params_vs_input(X, default_n_init=10)\n",
      "Optimizing 784 Strokes:  99%|████████████████▊| 397/400 [36:29<00:17,  5.86s/it]/root/miniconda3/lib/python3.8/site-packages/sklearn/cluster/_kmeans.py:1416: FutureWarning: The default value of `n_init` will change from 10 to 'auto' in 1.4. Set the value of `n_init` explicitly to suppress the warning\n",
      "  super()._check_params_vs_input(X, default_n_init=10)\n",
      "Optimizing 784 Strokes: 100%|████████████████▉| 398/400 [36:35<00:11,  5.74s/it]/root/miniconda3/lib/python3.8/site-packages/sklearn/cluster/_kmeans.py:1416: FutureWarning: The default value of `n_init` will change from 10 to 'auto' in 1.4. Set the value of `n_init` explicitly to suppress the warning\n",
      "  super()._check_params_vs_input(X, default_n_init=10)\n",
      "Optimizing 784 Strokes: 100%|████████████████▉| 399/400 [36:40<00:05,  5.65s/it]/root/miniconda3/lib/python3.8/site-packages/sklearn/cluster/_kmeans.py:1416: FutureWarning: The default value of `n_init` will change from 10 to 'auto' in 1.4. Set the value of `n_init` explicitly to suppress the warning\n",
      "  super()._check_params_vs_input(X, default_n_init=10)\n",
      "Optimizing 784 Strokes: 100%|█████████████████| 400/400 [36:47<00:00,  5.52s/it]\n",
      "/root/miniconda3/lib/python3.8/site-packages/sklearn/cluster/_kmeans.py:1416: FutureWarning: The default value of `n_init` will change from 10 to 'auto' in 1.4. Set the value of `n_init` explicitly to suppress the warning\n",
      "  super()._check_params_vs_input(X, default_n_init=10)\n",
      "[ERROR:0@2248.953] global cap.cpp:643 open VIDEOIO(CV_IMAGES): raised OpenCV exception:\n",
      "\n",
      "OpenCV(4.8.1) /io/opencv/modules/videoio/src/cap_images.cpp:267: error: (-215:Assertion failed) number < max_number in function 'icvExtractPattern'\n",
      "\n",
      "\n",
      "Traceback (most recent call last):\n",
      "  File \"plan.py\", line 526, in <module>\n",
      "    save_image(painting(h*4,w*4, use_alpha=False), os.path.join(opt.plan_gif_dir, 'init_painting_plan{}.png'.format(str(time.time()))))\n",
      "  File \"/root/miniconda3/lib/python3.8/site-packages/torch/autograd/grad_mode.py\", line 27, in decorate_context\n",
      "    return func(*args, **kwargs)\n",
      "  File \"/root/miniconda3/lib/python3.8/site-packages/torchvision/utils.py\", line 151, in save_image\n",
      "    im.save(fp, format=format)\n",
      "  File \"/root/miniconda3/lib/python3.8/site-packages/PIL/Image.py\", line 2297, in save\n",
      "    fp = builtins.open(filename, \"w+b\")\n",
      "FileNotFoundError: [Errno 2] No such file or directory: '/home/frida/Videos/frida/init_painting_plan1701615020.8814101.png'\n"
     ]
    }
   ],
   "source": [
    "#@title # Conceptually Paint a Reference Image\n",
    "#@markdown Paint from a source image using feature space loss.\n",
    "#@markdown Features are extracted from the last convolutional layer of CLIP.\n",
    "\n",
    "#@markdown Provide the URL to an image you'd like to paint\n",
    "\n",
    "image = \"https://cdn.homeandmoney.com/wp-content/uploads/2022/05/31113751/Pittsburgh_FeaturedImg-1.jpg\" #@param {type:\"string\"}\n",
    "\n",
    "!wget $image\n",
    "image = image.split('/')[-1]\n",
    "\n",
    "%tensorboard --logdir /content/Frida/src/painting\n",
    "!python plan.py --simulate --max_height 256 --use_cache \\\n",
    "        --cache_dir caches/cache_16_20_small2 --n_stroke_models 1 \\\n",
    "        --objective clip_conv_loss \\\n",
    "        --objective_data $image  \\\n",
    "        --objective_weight 1.0 \\\n",
    "        --lr_multiplier 0.4 \\\n",
    "        --n_init 0 \\\n",
    "        --num_strokes 800 --optim_iter 400 \\\n",
    "        --n_colors 30 \\\n",
    "        --plan_gif_dir 'content/Frida/src/Videos/'"
   ]
  },
  {
   "cell_type": "code",
   "execution_count": null,
   "metadata": {
    "cellView": "form",
    "id": "e6M3PenXq0o_"
   },
   "outputs": [],
   "source": [
    "#@title # Paint from Style and Text Input\n",
    "\n",
    "#@markdown Paint based off of an example style (give a URL) and a language description of the painting\n",
    "\n",
    "style_image = \"https://media.newyorker.com/photos/5a82035156b75c08a3e5b5b4/4:3/w_2043,h_1532,c_limit/Cunningham-Obama-Kehinde-Wiley.jpg\" #@param {type:\"string\"}\n",
    "text_description = \"A portrait of Samuel L Jackson smiling\" #@param {type:\"string\"}\n",
    "\n",
    "save_image_from_internet(style_image, 'input0.png')\n",
    "\n",
    "%tensorboard --logdir /content/Frida/src/painting\n",
    "!python plan.py --simulate --max_height 360 --use_cache --cache_dir cache/ --n_stroke_models 1 \\\n",
    "        --init_objective l2 --init_objective_data input0.png \\\n",
    "        --init_objective_weight 1.0 \\\n",
    "        --init_optim_iter  40 \\\n",
    "        --objective style text \\\n",
    "        --objective_data input0.png \"$text_description\" \\\n",
    "        --objective_weight 0.2 1.0 \\\n",
    "        --lr_multiplier 0.4 \\\n",
    "        --n_init 3 \\\n",
    "        --num_strokes 800 --optim_iter 300 \\\n",
    "        --n_colors 30\\\n",
    "        --plan_gif_dir 'content/Frida/src/Videos/'"
   ]
  },
  {
   "cell_type": "code",
   "execution_count": null,
   "metadata": {
    "cellView": "form",
    "id": "lHiOoY4K3icS"
   },
   "outputs": [],
   "source": [
    "#@title # Sketch2Painting with Style and Language Guidance\n",
    "\n",
    "#@markdown Paint based off of a sketch to guide composition. Also give an example style and text description to help fill in details.\n",
    "\n",
    "sketch = \"https://as2.ftcdn.net/v2/jpg/02/75/70/77/500_F_275707791_2M7x7kOugTyRtsBCrrqpD1fYoLMMEkC7.jpg\" #@param {type:\"string\"}\n",
    "style_image = \"https://uploads1.wikiart.org/images/norman-rockwell/ghostly-gourds.jpg!Large.jpg\" #@param {type:\"string\"}\n",
    "text_description = \"Laura Dern flexin'\" #@param {type:\"string\"}\n",
    "\n",
    "save_image_from_internet(style_image, 'input0.png')\n",
    "\n",
    "!wget $sketch\n",
    "sketch = sketch.split('/')[-1]\n",
    "\n",
    "%tensorboard --logdir /content/Frida/src/painting\n",
    "!python plan.py --simulate --max_height 360 --use_cache --cache_dir cache/ --n_stroke_models 1 \\\n",
    "        --objective clip_conv_loss style text \\\n",
    "        --objective_data \"$sketch\" input0.png \"$text_description\" \\\n",
    "        --objective_weight 0.7 0.5 1.0 \\\n",
    "        --lr_multiplier 0.4 \\\n",
    "        --n_init 0 \\\n",
    "        --num_strokes 800 --optim_iter 300 \\\n",
    "        --n_colors 30\\\n",
    "        --plan_gif_dir 'content/Frida/src/Videos/'"
   ]
  },
  {
   "cell_type": "code",
   "execution_count": null,
   "metadata": {
    "cellView": "form",
    "id": "mTbu9MSYyw6D"
   },
   "outputs": [],
   "source": [
    "#@title # Image Editing via Language\n",
    "\n",
    "#@markdown Paint a given image with an edit that you describe\n",
    "\n",
    "image = \"https://vetstreet.brightspotcdn.com/dims4/default/ed822f6/2147483647/thumbnail/645x380/quality/90/?url=https%3A%2F%2Fvetstreet-brightspot.s3.amazonaws.com%2F75%2F371580ca7a11e0ad9e12313817c323%2Ffile%2FBeagle-1-645mk062311.jpg\" #@param {type:\"string\"}\n",
    "text_edit = \"The dog is happy\" #@param {type:\"string\"}\n",
    "\n",
    "save_image_from_internet(image, 'input0.png')\n",
    "\n",
    "%tensorboard --logdir /content/Frida/src/painting\n",
    "!python plan.py --simulate --max_height 256 --use_cache --cache_dir cache/ --n_stroke_models 1 \\\n",
    "        --init_objective l2 --init_objective_data input0.png \\\n",
    "        --init_objective_weight 1.0 \\\n",
    "        --init_optim_iter  40 \\\n",
    "        --objective clip_fc_loss text \\\n",
    "        --objective_data input0.png \"$text_edit\" \\\n",
    "        --objective_weight 0.2 1.0 \\\n",
    "        --lr_multiplier 0.4 \\\n",
    "        --n_init 0 \\\n",
    "        --num_strokes 800 --optim_iter 300 \\\n",
    "        --n_colors 30\\\n",
    "        --plan_gif_dir 'content/Frida/src/Videos/'"
   ]
  },
  {
   "cell_type": "code",
   "execution_count": 26,
   "metadata": {
    "cellView": "form",
    "id": "ho4FZIlX2yOX"
   },
   "outputs": [
    {
     "data": {
      "text/plain": [
       "Reusing TensorBoard on port 6008 (pid 9763), started 0:04:28 ago. (Use '!kill 9763' to kill it.)"
      ]
     },
     "metadata": {},
     "output_type": "display_data"
    },
    {
     "data": {
      "text/html": [
       "\n",
       "      <iframe id=\"tensorboard-frame-601800f3a4efcaf7\" width=\"100%\" height=\"800\" frameborder=\"0\">\n",
       "      </iframe>\n",
       "      <script>\n",
       "        (function() {\n",
       "          const frame = document.getElementById(\"tensorboard-frame-601800f3a4efcaf7\");\n",
       "          const url = new URL(\"/\", window.location);\n",
       "          const port = 6008;\n",
       "          if (port) {\n",
       "            url.port = port;\n",
       "          }\n",
       "          frame.src = url;\n",
       "        })();\n",
       "      </script>\n",
       "    "
      ],
      "text/plain": [
       "<IPython.core.display.HTML object>"
      ]
     },
     "metadata": {},
     "output_type": "display_data"
    },
    {
     "name": "stdout",
     "output_type": "stream",
     "text": [
      "Optimizing 784 Strokes:  52%|████████▉        | 210/400 [19:52<18:32,  5.85s/it]/root/miniconda3/lib/python3.8/site-packages/sklearn/cluster/_kmeans.py:1416: FutureWarning: The default value of `n_init` will change from 10 to 'auto' in 1.4. Set the value of `n_init` explicitly to suppress the warning\n",
      "  super()._check_params_vs_input(X, default_n_init=10)\n",
      "Optimizing 784 Strokes:  55%|█████████▎       | 220/400 [20:49<17:31,  5.84s/it]/root/miniconda3/lib/python3.8/site-packages/sklearn/cluster/_kmeans.py:1416: FutureWarning: The default value of `n_init` will change from 10 to 'auto' in 1.4. Set the value of `n_init` explicitly to suppress the warning\n",
      "  super()._check_params_vs_input(X, default_n_init=10)\n",
      "Optimizing 784 Strokes:  57%|█████████▊       | 230/400 [21:45<16:39,  5.88s/it]/root/miniconda3/lib/python3.8/site-packages/sklearn/cluster/_kmeans.py:1416: FutureWarning: The default value of `n_init` will change from 10 to 'auto' in 1.4. Set the value of `n_init` explicitly to suppress the warning\n",
      "  super()._check_params_vs_input(X, default_n_init=10)\n",
      "Optimizing 784 Strokes:  60%|██████████▏      | 240/400 [22:41<15:29,  5.81s/it]/root/miniconda3/lib/python3.8/site-packages/sklearn/cluster/_kmeans.py:1416: FutureWarning: The default value of `n_init` will change from 10 to 'auto' in 1.4. Set the value of `n_init` explicitly to suppress the warning\n",
      "  super()._check_params_vs_input(X, default_n_init=10)\n",
      "Optimizing 784 Strokes:  62%|██████████▋      | 250/400 [23:38<14:36,  5.84s/it]/root/miniconda3/lib/python3.8/site-packages/sklearn/cluster/_kmeans.py:1416: FutureWarning: The default value of `n_init` will change from 10 to 'auto' in 1.4. Set the value of `n_init` explicitly to suppress the warning\n",
      "  super()._check_params_vs_input(X, default_n_init=10)\n",
      "Optimizing 784 Strokes:  65%|███████████      | 260/400 [24:35<13:47,  5.91s/it]/root/miniconda3/lib/python3.8/site-packages/sklearn/cluster/_kmeans.py:1416: FutureWarning: The default value of `n_init` will change from 10 to 'auto' in 1.4. Set the value of `n_init` explicitly to suppress the warning\n",
      "  super()._check_params_vs_input(X, default_n_init=10)\n",
      "Optimizing 784 Strokes:  68%|███████████▍     | 270/400 [25:32<12:51,  5.93s/it]/root/miniconda3/lib/python3.8/site-packages/sklearn/cluster/_kmeans.py:1416: FutureWarning: The default value of `n_init` will change from 10 to 'auto' in 1.4. Set the value of `n_init` explicitly to suppress the warning\n",
      "  super()._check_params_vs_input(X, default_n_init=10)\n",
      "Optimizing 784 Strokes:  70%|███████████▉     | 280/400 [26:29<11:47,  5.89s/it]/root/miniconda3/lib/python3.8/site-packages/sklearn/cluster/_kmeans.py:1416: FutureWarning: The default value of `n_init` will change from 10 to 'auto' in 1.4. Set the value of `n_init` explicitly to suppress the warning\n",
      "  super()._check_params_vs_input(X, default_n_init=10)\n",
      "Optimizing 784 Strokes:  72%|████████████▎    | 290/400 [27:26<10:56,  5.97s/it]/root/miniconda3/lib/python3.8/site-packages/sklearn/cluster/_kmeans.py:1416: FutureWarning: The default value of `n_init` will change from 10 to 'auto' in 1.4. Set the value of `n_init` explicitly to suppress the warning\n",
      "  super()._check_params_vs_input(X, default_n_init=10)\n",
      "Optimizing 784 Strokes:  75%|████████████▊    | 300/400 [28:24<10:01,  6.02s/it]/root/miniconda3/lib/python3.8/site-packages/sklearn/cluster/_kmeans.py:1416: FutureWarning: The default value of `n_init` will change from 10 to 'auto' in 1.4. Set the value of `n_init` explicitly to suppress the warning\n",
      "  super()._check_params_vs_input(X, default_n_init=10)\n",
      "Optimizing 784 Strokes:  78%|█████████████▏   | 310/400 [29:22<09:05,  6.06s/it]/root/miniconda3/lib/python3.8/site-packages/sklearn/cluster/_kmeans.py:1416: FutureWarning: The default value of `n_init` will change from 10 to 'auto' in 1.4. Set the value of `n_init` explicitly to suppress the warning\n",
      "  super()._check_params_vs_input(X, default_n_init=10)\n",
      "Optimizing 784 Strokes:  80%|█████████████▌   | 320/400 [30:19<07:53,  5.92s/it]/root/miniconda3/lib/python3.8/site-packages/sklearn/cluster/_kmeans.py:1416: FutureWarning: The default value of `n_init` will change from 10 to 'auto' in 1.4. Set the value of `n_init` explicitly to suppress the warning\n",
      "  super()._check_params_vs_input(X, default_n_init=10)\n",
      "Optimizing 784 Strokes:  82%|██████████████   | 330/400 [31:17<07:00,  6.00s/it]/root/miniconda3/lib/python3.8/site-packages/sklearn/cluster/_kmeans.py:1416: FutureWarning: The default value of `n_init` will change from 10 to 'auto' in 1.4. Set the value of `n_init` explicitly to suppress the warning\n",
      "  super()._check_params_vs_input(X, default_n_init=10)\n",
      "Optimizing 784 Strokes:  85%|██████████████▍  | 340/400 [32:13<05:52,  5.88s/it]/root/miniconda3/lib/python3.8/site-packages/sklearn/cluster/_kmeans.py:1416: FutureWarning: The default value of `n_init` will change from 10 to 'auto' in 1.4. Set the value of `n_init` explicitly to suppress the warning\n",
      "  super()._check_params_vs_input(X, default_n_init=10)\n",
      "Optimizing 784 Strokes:  88%|██████████████▉  | 350/400 [33:10<04:56,  5.92s/it]/root/miniconda3/lib/python3.8/site-packages/sklearn/cluster/_kmeans.py:1416: FutureWarning: The default value of `n_init` will change from 10 to 'auto' in 1.4. Set the value of `n_init` explicitly to suppress the warning\n",
      "  super()._check_params_vs_input(X, default_n_init=10)\n",
      "Optimizing 784 Strokes:  90%|███████████████▎ | 360/400 [34:07<03:58,  5.97s/it]/root/miniconda3/lib/python3.8/site-packages/sklearn/cluster/_kmeans.py:1416: FutureWarning: The default value of `n_init` will change from 10 to 'auto' in 1.4. Set the value of `n_init` explicitly to suppress the warning\n",
      "  super()._check_params_vs_input(X, default_n_init=10)\n",
      "Optimizing 784 Strokes:  90%|███████████████▎ | 361/400 [34:13<03:49,  5.89s/it]/root/miniconda3/lib/python3.8/site-packages/sklearn/cluster/_kmeans.py:1416: FutureWarning: The default value of `n_init` will change from 10 to 'auto' in 1.4. Set the value of `n_init` explicitly to suppress the warning\n",
      "  super()._check_params_vs_input(X, default_n_init=10)\n",
      "Optimizing 784 Strokes:  90%|███████████████▍ | 362/400 [34:18<03:41,  5.82s/it]/root/miniconda3/lib/python3.8/site-packages/sklearn/cluster/_kmeans.py:1416: FutureWarning: The default value of `n_init` will change from 10 to 'auto' in 1.4. Set the value of `n_init` explicitly to suppress the warning\n",
      "  super()._check_params_vs_input(X, default_n_init=10)\n",
      "Optimizing 784 Strokes:  91%|███████████████▍ | 363/400 [34:24<03:32,  5.74s/it]/root/miniconda3/lib/python3.8/site-packages/sklearn/cluster/_kmeans.py:1416: FutureWarning: The default value of `n_init` will change from 10 to 'auto' in 1.4. Set the value of `n_init` explicitly to suppress the warning\n",
      "  super()._check_params_vs_input(X, default_n_init=10)\n",
      "Optimizing 784 Strokes:  91%|███████████████▍ | 364/400 [34:30<03:25,  5.71s/it]/root/miniconda3/lib/python3.8/site-packages/sklearn/cluster/_kmeans.py:1416: FutureWarning: The default value of `n_init` will change from 10 to 'auto' in 1.4. Set the value of `n_init` explicitly to suppress the warning\n",
      "  super()._check_params_vs_input(X, default_n_init=10)\n",
      "Optimizing 784 Strokes:  91%|███████████████▌ | 365/400 [34:37<03:37,  6.22s/it]/root/miniconda3/lib/python3.8/site-packages/sklearn/cluster/_kmeans.py:1416: FutureWarning: The default value of `n_init` will change from 10 to 'auto' in 1.4. Set the value of `n_init` explicitly to suppress the warning\n",
      "  super()._check_params_vs_input(X, default_n_init=10)\n",
      "Optimizing 784 Strokes:  92%|███████████████▌ | 366/400 [34:43<03:27,  6.11s/it]/root/miniconda3/lib/python3.8/site-packages/sklearn/cluster/_kmeans.py:1416: FutureWarning: The default value of `n_init` will change from 10 to 'auto' in 1.4. Set the value of `n_init` explicitly to suppress the warning\n",
      "  super()._check_params_vs_input(X, default_n_init=10)\n",
      "Optimizing 784 Strokes:  92%|███████████████▌ | 367/400 [34:48<03:16,  5.96s/it]/root/miniconda3/lib/python3.8/site-packages/sklearn/cluster/_kmeans.py:1416: FutureWarning: The default value of `n_init` will change from 10 to 'auto' in 1.4. Set the value of `n_init` explicitly to suppress the warning\n",
      "  super()._check_params_vs_input(X, default_n_init=10)\n",
      "Optimizing 784 Strokes:  92%|███████████████▋ | 368/400 [34:54<03:08,  5.89s/it]/root/miniconda3/lib/python3.8/site-packages/sklearn/cluster/_kmeans.py:1416: FutureWarning: The default value of `n_init` will change from 10 to 'auto' in 1.4. Set the value of `n_init` explicitly to suppress the warning\n",
      "  super()._check_params_vs_input(X, default_n_init=10)\n",
      "Optimizing 784 Strokes:  92%|███████████████▋ | 369/400 [35:00<03:01,  5.86s/it]/root/miniconda3/lib/python3.8/site-packages/sklearn/cluster/_kmeans.py:1416: FutureWarning: The default value of `n_init` will change from 10 to 'auto' in 1.4. Set the value of `n_init` explicitly to suppress the warning\n",
      "  super()._check_params_vs_input(X, default_n_init=10)\n",
      "Optimizing 784 Strokes:  92%|███████████████▋ | 370/400 [35:07<03:09,  6.30s/it]/root/miniconda3/lib/python3.8/site-packages/sklearn/cluster/_kmeans.py:1416: FutureWarning: The default value of `n_init` will change from 10 to 'auto' in 1.4. Set the value of `n_init` explicitly to suppress the warning\n",
      "  super()._check_params_vs_input(X, default_n_init=10)\n",
      "Optimizing 784 Strokes:  93%|███████████████▊ | 371/400 [35:13<02:57,  6.11s/it]/root/miniconda3/lib/python3.8/site-packages/sklearn/cluster/_kmeans.py:1416: FutureWarning: The default value of `n_init` will change from 10 to 'auto' in 1.4. Set the value of `n_init` explicitly to suppress the warning\n",
      "  super()._check_params_vs_input(X, default_n_init=10)\n",
      "Optimizing 784 Strokes:  93%|███████████████▊ | 372/400 [35:19<02:48,  6.01s/it]/root/miniconda3/lib/python3.8/site-packages/sklearn/cluster/_kmeans.py:1416: FutureWarning: The default value of `n_init` will change from 10 to 'auto' in 1.4. Set the value of `n_init` explicitly to suppress the warning\n",
      "  super()._check_params_vs_input(X, default_n_init=10)\n",
      "Optimizing 784 Strokes:  93%|███████████████▊ | 373/400 [35:25<02:40,  5.96s/it]/root/miniconda3/lib/python3.8/site-packages/sklearn/cluster/_kmeans.py:1416: FutureWarning: The default value of `n_init` will change from 10 to 'auto' in 1.4. Set the value of `n_init` explicitly to suppress the warning\n",
      "  super()._check_params_vs_input(X, default_n_init=10)\n",
      "Optimizing 784 Strokes:  94%|███████████████▉ | 374/400 [35:30<02:34,  5.95s/it]/root/miniconda3/lib/python3.8/site-packages/sklearn/cluster/_kmeans.py:1416: FutureWarning: The default value of `n_init` will change from 10 to 'auto' in 1.4. Set the value of `n_init` explicitly to suppress the warning\n",
      "  super()._check_params_vs_input(X, default_n_init=10)\n",
      "Optimizing 784 Strokes:  94%|███████████████▉ | 375/400 [35:38<02:38,  6.35s/it]/root/miniconda3/lib/python3.8/site-packages/sklearn/cluster/_kmeans.py:1416: FutureWarning: The default value of `n_init` will change from 10 to 'auto' in 1.4. Set the value of `n_init` explicitly to suppress the warning\n",
      "  super()._check_params_vs_input(X, default_n_init=10)\n",
      "Optimizing 784 Strokes:  94%|███████████████▉ | 376/400 [35:43<02:27,  6.15s/it]/root/miniconda3/lib/python3.8/site-packages/sklearn/cluster/_kmeans.py:1416: FutureWarning: The default value of `n_init` will change from 10 to 'auto' in 1.4. Set the value of `n_init` explicitly to suppress the warning\n",
      "  super()._check_params_vs_input(X, default_n_init=10)\n",
      "Optimizing 784 Strokes:  94%|████████████████ | 377/400 [35:49<02:17,  5.96s/it]/root/miniconda3/lib/python3.8/site-packages/sklearn/cluster/_kmeans.py:1416: FutureWarning: The default value of `n_init` will change from 10 to 'auto' in 1.4. Set the value of `n_init` explicitly to suppress the warning\n",
      "  super()._check_params_vs_input(X, default_n_init=10)\n",
      "Optimizing 784 Strokes:  94%|████████████████ | 378/400 [35:54<02:08,  5.83s/it]/root/miniconda3/lib/python3.8/site-packages/sklearn/cluster/_kmeans.py:1416: FutureWarning: The default value of `n_init` will change from 10 to 'auto' in 1.4. Set the value of `n_init` explicitly to suppress the warning\n",
      "  super()._check_params_vs_input(X, default_n_init=10)\n",
      "Optimizing 784 Strokes:  95%|████████████████ | 379/400 [36:00<02:00,  5.74s/it]/root/miniconda3/lib/python3.8/site-packages/sklearn/cluster/_kmeans.py:1416: FutureWarning: The default value of `n_init` will change from 10 to 'auto' in 1.4. Set the value of `n_init` explicitly to suppress the warning\n",
      "  super()._check_params_vs_input(X, default_n_init=10)\n",
      "Optimizing 784 Strokes:  95%|████████████████▏| 380/400 [36:07<02:05,  6.26s/it]/root/miniconda3/lib/python3.8/site-packages/sklearn/cluster/_kmeans.py:1416: FutureWarning: The default value of `n_init` will change from 10 to 'auto' in 1.4. Set the value of `n_init` explicitly to suppress the warning\n",
      "  super()._check_params_vs_input(X, default_n_init=10)\n",
      "Optimizing 784 Strokes:  95%|████████████████▏| 381/400 [36:13<01:56,  6.14s/it]/root/miniconda3/lib/python3.8/site-packages/sklearn/cluster/_kmeans.py:1416: FutureWarning: The default value of `n_init` will change from 10 to 'auto' in 1.4. Set the value of `n_init` explicitly to suppress the warning\n",
      "  super()._check_params_vs_input(X, default_n_init=10)\n",
      "Optimizing 784 Strokes:  96%|████████████████▏| 382/400 [36:19<01:47,  5.97s/it]/root/miniconda3/lib/python3.8/site-packages/sklearn/cluster/_kmeans.py:1416: FutureWarning: The default value of `n_init` will change from 10 to 'auto' in 1.4. Set the value of `n_init` explicitly to suppress the warning\n",
      "  super()._check_params_vs_input(X, default_n_init=10)\n",
      "Optimizing 784 Strokes:  96%|████████████████▎| 383/400 [36:25<01:39,  5.86s/it]/root/miniconda3/lib/python3.8/site-packages/sklearn/cluster/_kmeans.py:1416: FutureWarning: The default value of `n_init` will change from 10 to 'auto' in 1.4. Set the value of `n_init` explicitly to suppress the warning\n",
      "  super()._check_params_vs_input(X, default_n_init=10)\n",
      "Optimizing 784 Strokes:  96%|████████████████▎| 384/400 [36:30<01:32,  5.81s/it]/root/miniconda3/lib/python3.8/site-packages/sklearn/cluster/_kmeans.py:1416: FutureWarning: The default value of `n_init` will change from 10 to 'auto' in 1.4. Set the value of `n_init` explicitly to suppress the warning\n",
      "  super()._check_params_vs_input(X, default_n_init=10)\n",
      "Optimizing 784 Strokes:  96%|████████████████▎| 385/400 [36:38<01:34,  6.27s/it]/root/miniconda3/lib/python3.8/site-packages/sklearn/cluster/_kmeans.py:1416: FutureWarning: The default value of `n_init` will change from 10 to 'auto' in 1.4. Set the value of `n_init` explicitly to suppress the warning\n",
      "  super()._check_params_vs_input(X, default_n_init=10)\n",
      "Optimizing 784 Strokes:  96%|████████████████▍| 386/400 [36:43<01:25,  6.07s/it]/root/miniconda3/lib/python3.8/site-packages/sklearn/cluster/_kmeans.py:1416: FutureWarning: The default value of `n_init` will change from 10 to 'auto' in 1.4. Set the value of `n_init` explicitly to suppress the warning\n",
      "  super()._check_params_vs_input(X, default_n_init=10)\n",
      "Optimizing 784 Strokes:  97%|████████████████▍| 387/400 [36:49<01:17,  5.98s/it]/root/miniconda3/lib/python3.8/site-packages/sklearn/cluster/_kmeans.py:1416: FutureWarning: The default value of `n_init` will change from 10 to 'auto' in 1.4. Set the value of `n_init` explicitly to suppress the warning\n",
      "  super()._check_params_vs_input(X, default_n_init=10)\n",
      "Optimizing 784 Strokes:  97%|████████████████▍| 388/400 [36:55<01:10,  5.89s/it]/root/miniconda3/lib/python3.8/site-packages/sklearn/cluster/_kmeans.py:1416: FutureWarning: The default value of `n_init` will change from 10 to 'auto' in 1.4. Set the value of `n_init` explicitly to suppress the warning\n",
      "  super()._check_params_vs_input(X, default_n_init=10)\n",
      "Optimizing 784 Strokes:  97%|████████████████▌| 389/400 [37:00<01:04,  5.86s/it]/root/miniconda3/lib/python3.8/site-packages/sklearn/cluster/_kmeans.py:1416: FutureWarning: The default value of `n_init` will change from 10 to 'auto' in 1.4. Set the value of `n_init` explicitly to suppress the warning\n",
      "  super()._check_params_vs_input(X, default_n_init=10)\n",
      "Optimizing 784 Strokes:  98%|████████████████▌| 390/400 [37:08<01:03,  6.38s/it]/root/miniconda3/lib/python3.8/site-packages/sklearn/cluster/_kmeans.py:1416: FutureWarning: The default value of `n_init` will change from 10 to 'auto' in 1.4. Set the value of `n_init` explicitly to suppress the warning\n",
      "  super()._check_params_vs_input(X, default_n_init=10)\n",
      "Optimizing 784 Strokes:  98%|████████████████▌| 391/400 [37:14<00:56,  6.28s/it]/root/miniconda3/lib/python3.8/site-packages/sklearn/cluster/_kmeans.py:1416: FutureWarning: The default value of `n_init` will change from 10 to 'auto' in 1.4. Set the value of `n_init` explicitly to suppress the warning\n",
      "  super()._check_params_vs_input(X, default_n_init=10)\n",
      "Optimizing 784 Strokes:  98%|████████████████▋| 392/400 [37:20<00:48,  6.06s/it]/root/miniconda3/lib/python3.8/site-packages/sklearn/cluster/_kmeans.py:1416: FutureWarning: The default value of `n_init` will change from 10 to 'auto' in 1.4. Set the value of `n_init` explicitly to suppress the warning\n",
      "  super()._check_params_vs_input(X, default_n_init=10)\n",
      "Optimizing 784 Strokes:  98%|████████████████▋| 393/400 [37:25<00:41,  5.93s/it]/root/miniconda3/lib/python3.8/site-packages/sklearn/cluster/_kmeans.py:1416: FutureWarning: The default value of `n_init` will change from 10 to 'auto' in 1.4. Set the value of `n_init` explicitly to suppress the warning\n",
      "  super()._check_params_vs_input(X, default_n_init=10)\n",
      "Optimizing 784 Strokes:  98%|████████████████▋| 394/400 [37:31<00:35,  5.95s/it]/root/miniconda3/lib/python3.8/site-packages/sklearn/cluster/_kmeans.py:1416: FutureWarning: The default value of `n_init` will change from 10 to 'auto' in 1.4. Set the value of `n_init` explicitly to suppress the warning\n",
      "  super()._check_params_vs_input(X, default_n_init=10)\n",
      "Optimizing 784 Strokes:  99%|████████████████▊| 395/400 [37:39<00:32,  6.51s/it]/root/miniconda3/lib/python3.8/site-packages/sklearn/cluster/_kmeans.py:1416: FutureWarning: The default value of `n_init` will change from 10 to 'auto' in 1.4. Set the value of `n_init` explicitly to suppress the warning\n",
      "  super()._check_params_vs_input(X, default_n_init=10)\n",
      "Optimizing 784 Strokes:  99%|████████████████▊| 396/400 [37:45<00:25,  6.38s/it]/root/miniconda3/lib/python3.8/site-packages/sklearn/cluster/_kmeans.py:1416: FutureWarning: The default value of `n_init` will change from 10 to 'auto' in 1.4. Set the value of `n_init` explicitly to suppress the warning\n",
      "  super()._check_params_vs_input(X, default_n_init=10)\n",
      "Optimizing 784 Strokes:  99%|████████████████▊| 397/400 [37:51<00:18,  6.12s/it]/root/miniconda3/lib/python3.8/site-packages/sklearn/cluster/_kmeans.py:1416: FutureWarning: The default value of `n_init` will change from 10 to 'auto' in 1.4. Set the value of `n_init` explicitly to suppress the warning\n",
      "  super()._check_params_vs_input(X, default_n_init=10)\n",
      "Optimizing 784 Strokes: 100%|████████████████▉| 398/400 [37:56<00:11,  5.97s/it]/root/miniconda3/lib/python3.8/site-packages/sklearn/cluster/_kmeans.py:1416: FutureWarning: The default value of `n_init` will change from 10 to 'auto' in 1.4. Set the value of `n_init` explicitly to suppress the warning\n",
      "  super()._check_params_vs_input(X, default_n_init=10)\n",
      "Optimizing 784 Strokes: 100%|████████████████▉| 399/400 [38:02<00:05,  5.84s/it]/root/miniconda3/lib/python3.8/site-packages/sklearn/cluster/_kmeans.py:1416: FutureWarning: The default value of `n_init` will change from 10 to 'auto' in 1.4. Set the value of `n_init` explicitly to suppress the warning\n",
      "  super()._check_params_vs_input(X, default_n_init=10)\n",
      "Optimizing 784 Strokes: 100%|█████████████████| 400/400 [38:09<00:00,  5.72s/it]\n",
      "/root/miniconda3/lib/python3.8/site-packages/sklearn/cluster/_kmeans.py:1416: FutureWarning: The default value of `n_init` will change from 10 to 'auto' in 1.4. Set the value of `n_init` explicitly to suppress the warning\n",
      "  super()._check_params_vs_input(X, default_n_init=10)\n",
      "[ERROR:0@2310.221] global cap.cpp:643 open VIDEOIO(CV_IMAGES): raised OpenCV exception:\n",
      "\n",
      "OpenCV(4.8.1) /io/opencv/modules/videoio/src/cap_images.cpp:267: error: (-215:Assertion failed) number < max_number in function 'icvExtractPattern'\n",
      "\n",
      "\n",
      "Traceback (most recent call last):\n",
      "  File \"plan.py\", line 526, in <module>\n",
      "    save_image(painting(h*4,w*4, use_alpha=False), os.path.join(opt.plan_gif_dir, 'init_painting_plan{}.png'.format(str(time.time()))))\n",
      "  File \"/root/miniconda3/lib/python3.8/site-packages/torch/autograd/grad_mode.py\", line 27, in decorate_context\n",
      "    return func(*args, **kwargs)\n",
      "  File \"/root/miniconda3/lib/python3.8/site-packages/torchvision/utils.py\", line 151, in save_image\n",
      "    im.save(fp, format=format)\n",
      "  File \"/root/miniconda3/lib/python3.8/site-packages/PIL/Image.py\", line 2435, in save\n",
      "    fp = builtins.open(filename, \"w+b\")\n",
      "FileNotFoundError: [Errno 2] No such file or directory: '/home/frida/Videos/frida/init_painting_plan1701619775.1944804.png'\n"
     ]
    }
   ],
   "source": [
    "#@title # Paint from an Image with Euclidean Distance\n",
    "#@markdown Paint from a source image as exactly as possible.\n",
    "#@markdown The algorithm tries to minimize the $L_2$ distance between the painting and the source iamge.\n",
    "\n",
    "#@markdown Provide the URL to an image you'd like to paint\n",
    "\n",
    "image = \"https://cdn.homeandmoney.com/wp-content/uploads/2022/05/31113751/Pittsburgh_FeaturedImg-1.jpg\" #@param {type:\"string\"}\n",
    "\n",
    "save_image_from_internet(image, 'input0.png')\n",
    "\n",
    "%tensorboard --logdir /content/Frida/src/painting\n",
    "!python plan.py --simulate --max_height 256 --use_cache \\\n",
    "        --cache_dir caches/cache_6_6_4.5cm --n_stroke_models 1 \\\n",
    "        --objective l2 \\\n",
    "        --objective_data input0.png  \\\n",
    "        --objective_weight 1.0 \\\n",
    "        --lr_multiplier 0.4 \\\n",
    "        --n_init 0 \\\n",
    "        --num_strokes 800 --optim_iter 400 \\\n",
    "        --n_colors 30\\\n",
    "        --plan_gif_dir 'content/Frida/src/Videos/'"
   ]
  },
  {
   "cell_type": "code",
   "execution_count": null,
   "metadata": {
    "cellView": "form",
    "id": "rF_doFI--wPv"
   },
   "outputs": [],
   "source": [
    "#@title # Draw with Ink\n",
    "#@markdown Paint from a source image using feature space loss.\n",
    "#@markdown Features are extracted from the last convolutional layer of CLIP.\n",
    "\n",
    "#@markdown Provide the URL to an image you'd like to paint\n",
    "\n",
    "image = \"https://cdn.homeandmoney.com/wp-content/uploads/2022/05/31113751/Pittsburgh_FeaturedImg-1.jpg\" #@param {type:\"string\"}\n",
    "\n",
    "!wget $image\n",
    "image = image.split('/')[-1]\n",
    "\n",
    "%tensorboard --logdir /content/Frida/src/painting\n",
    "!python plan.py --simulate --max_height 256 \\\n",
    "        --use_cache --cache_dir caches/cache_10_8_ink --n_stroke_models 1 \\\n",
    "        --objective clip_conv_loss \\\n",
    "        --objective_data $image  \\\n",
    "        --objective_weight 1.0 \\\n",
    "        --lr_multiplier 0.8 \\\n",
    "        --n_init 0 \\\n",
    "        --num_strokes 200 --optim_iter 400 \\\n",
    "        --ink\\\n",
    "        --plan_gif_dir 'content/Frida/src/Videos/'"
   ]
  },
  {
   "cell_type": "code",
   "execution_count": null,
   "metadata": {
    "id": "ZSA1HzVxgq6j"
   },
   "outputs": [],
   "source": [
    " # Generalized Execution\n",
    " %tensorboard --logdir /content/Frida/src/painting --reload_interval 10 --reload_multifile True\n",
    "!python plan.py --simulate --max_height 196 --use_cache --cache_dir cache/ --n_stroke_models 1 \\\n",
    "        --init_objective clip_conv_loss --init_objective_data frida.jpg --init_objective_weight 1.0 \\\n",
    "        --init_optim_iter  40 \\\n",
    "        --objective clip_conv_loss \\\n",
    "        --objective_data frida.jpg \\\n",
    "        --objective_weight 1.0 \\\n",
    "        --lr_multiplier 0.3 \\\n",
    "        --n_init 1\\\n",
    "        --num_strokes 800 --optim_iter 800 \\\n",
    "        --n_colors 12\\\n",
    "        --plan_gif_dir 'content/Frida/src/Videos/'"
   ]
  }
 ],
 "metadata": {
  "accelerator": "GPU",
  "colab": {
   "collapsed_sections": [
    "8AayW146DEtQ"
   ],
   "provenance": []
  },
  "gpuClass": "standard",
  "kernelspec": {
   "display_name": "Python 3 (ipykernel)",
   "language": "python",
   "name": "python3"
  },
  "language_info": {
   "codemirror_mode": {
    "name": "ipython",
    "version": 3
   },
   "file_extension": ".py",
   "mimetype": "text/x-python",
   "name": "python",
   "nbconvert_exporter": "python",
   "pygments_lexer": "ipython3",
   "version": "3.8.10"
  },
  "vscode": {
   "interpreter": {
    "hash": "3074106803b07dc939ee5092e243a9cb934849e47ba0e44776dc7afb3d90da72"
   }
  }
 },
 "nbformat": 4,
 "nbformat_minor": 4
}
